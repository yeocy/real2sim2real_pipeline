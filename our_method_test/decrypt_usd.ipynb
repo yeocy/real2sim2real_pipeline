{
 "cells": [
  {
   "cell_type": "code",
   "execution_count": null,
   "metadata": {},
   "outputs": [
    {
     "name": "stdout",
     "output_type": "stream",
     "text": [
      "/home/kodogyu/projects/Research/SATELLITE/real2sim2real_pipeline/deps/OmniGibson/omnigibson/data/og_dataset/objects/straight_chair/enuago/usd/enuago.usd\n"
     ]
    }
   ],
   "source": [
    "from omnigibson.utils.asset_utils import decrypt_file\n",
    "\n",
    "# encrypted_usd file path\n",
    "usd_dir = \"real2sim2real_pipeline/deps/OmniGibson/omnigibson/data/og_dataset/objects\"\n",
    "\n",
    "category = \"straight_chair\"\n",
    "object_id = \"enuago\"\n",
    "encrypted_filename = f\"{usd_dir}/{category}/{object_id}/usd/{object_id}.encrypted.usd\"\n",
    "# output usd file path\n",
    "usd_path_split = encrypted_filename.split('.')\n",
    "usd_path = \".\".join([usd_path_split[-3], usd_path_split[-1]])\n",
    "# usd_path = f\"{usd_dir}/desk/vpwmkm/usd/vpwmkm.usd\"\n",
    "print(usd_path)\n",
    "\n",
    "decrypt_file(encrypted_filename, usd_path)"
   ]
  }
 ],
 "metadata": {
  "kernelspec": {
   "display_name": "satellite",
   "language": "python",
   "name": "python3"
  },
  "language_info": {
   "codemirror_mode": {
    "name": "ipython",
    "version": 3
   },
   "file_extension": ".py",
   "mimetype": "text/x-python",
   "name": "python",
   "nbconvert_exporter": "python",
   "pygments_lexer": "ipython3",
   "version": "3.10.16"
  }
 },
 "nbformat": 4,
 "nbformat_minor": 2
}
